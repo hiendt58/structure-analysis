{
 "cells": [
  {
   "cell_type": "code",
   "execution_count": null,
   "metadata": {
    "collapsed": true
   },
   "outputs": [],
   "source": [
    "# import module\n",
    "from sapy import displmethod\n",
    "from sapy import element\n",
    "from sapy import gmsh\n",
    "from sapy import structure\n",
    "from sapy import plotter\n",
    "from matplotlib import pyplot as plt\n",
    "import numpy as np\n",
    "\n",
    "def normalize(data, lower, upper):\n",
    "    max_val = np.max(data)\n",
    "    min_val = np.min(data)\n",
    "    data_norm = np.array([(i - min_val)*(upper-lower)/(max_val-min_val) + lower for i in data])\n",
    "    return data_norm\n",
    "\n",
    "# generate input, output for neural network\n",
    "# init params\n",
    "num_bars = 10\n",
    "num_exams = [500]\n",
    "\n",
    "mesh_file = 'geo/truss_%d' % num_bars\n",
    "num_outs = [2, 18]\n",
    "for num_out in num_outs:\n",
    "    for num_exam in num_exams:\n",
    "        inp_file = \"data/truss_%d_%d_%d.txt\" %(num_bars, num_exam, num_out)\n",
    "        inp = open(inp_file, 'w')\n",
    "\n",
    "\n",
    "        # load geo from file - dictionary\n",
    "        mesh = gmsh.Parse(mesh_file)\n",
    "\n",
    "        bound = {5: [1, 1], 4: [1, 1]}\n",
    "\n",
    "        nodal_load = {1: [0., -100.],\n",
    "                     3: [0., -100.]}\n",
    "        ele = element.Data()\n",
    "        for j in range(num_exam):       \n",
    "        \n",
    "            A = []\n",
    "            for i in range(num_bars): \n",
    "                area = np.random.uniform(0.1, 35.0) # range(0.1, 35.0) in2\n",
    "                A.append(area)\n",
    "                ele.E[i] = 10000.\n",
    "                ele.A[i] = area\n",
    "                ele.TYPE[i] = 'Truss'\n",
    "            model = structure.Builder(mesh, ele, bound)\n",
    "\n",
    "            U, Q = displmethod.solver(mesh, model, ele, nodal_load)\n",
    "        \n",
    "            # then write to file\n",
    "            area = \" \".join([str(a) for a in A])\n",
    "            if num_out == 18:\n",
    "                displace = \" \".join([str(u) for u in U[:8]])  # 18 outputs: 4 point displacements and force\n",
    "                force = \" \".join([str(q) for q in Q])\n",
    "                inp.write(\"%s %s %s\\n\" %(area, displace, force))\n",
    "\n",
    "            else:\n",
    "                inp.write(\"%s %f %f\\n\" %(area, U[1], U[3]))  # 2 outputs with critical contrainst d2 and d4\n",
    "                   \n",
    "        #     \n",
    "        inp.close()\n"
   ]
  },
  {
   "cell_type": "code",
   "execution_count": null,
   "metadata": {
    "collapsed": true
   },
   "outputs": [],
   "source": []
  }
 ],
 "metadata": {
  "kernelspec": {
   "display_name": "Python 3",
   "language": "python",
   "name": "python3"
  },
  "language_info": {
   "codemirror_mode": {
    "name": "ipython",
    "version": 3
   },
   "file_extension": ".py",
   "mimetype": "text/x-python",
   "name": "python",
   "nbconvert_exporter": "python",
   "pygments_lexer": "ipython3",
   "version": "3.6.1"
  }
 },
 "nbformat": 4,
 "nbformat_minor": 2
}
